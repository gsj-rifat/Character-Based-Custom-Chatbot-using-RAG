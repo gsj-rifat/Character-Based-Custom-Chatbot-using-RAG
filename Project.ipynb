{
 "cells": [
  {
   "cell_type": "markdown",
   "id": "124e5672",
   "metadata": {},
   "source": [
    "# Custom Chatbot Project"
   ]
  },
  {
   "cell_type": "markdown",
   "id": "2a4a94b3",
   "metadata": {},
   "source": [
    "## Data Description\n",
    "The 'character_descriptions.csv' dataset is the file which containes the characters information such as name, short description, medium and setting. This project will implement the RAG approach to customize the chatbot using this dataset.\n"
   ]
  },
  {
   "cell_type": "markdown",
   "id": "cdd6ea21",
   "metadata": {},
   "source": [
    "## Reason for Dataset Selection\n",
    "\n",
    "I have choosen this character_descriptions.csv dataset because this is an excellent choice for this RAG project due to its synthetic nature, evaluation clarity, structured format, and domain relevance. We can accurately measure the effectiveness of retrieval and grounding, Trace hallucinations and fine-tune prompts, Simulate real-world chatbot scenarios in a safe and experimental way."
   ]
  },
  {
   "cell_type": "markdown",
   "id": "a63d4c5f",
   "metadata": {},
   "source": [
    "## Data Wrangling"
   ]
  },
  {
   "cell_type": "code",
   "execution_count": 1,
   "id": "c69b83a1",
   "metadata": {},
   "outputs": [],
   "source": [
    "import pandas as pd\n",
    "import tiktoken\n",
    "import numpy as np\n",
    "from openai.embeddings_utils import get_embedding, distances_from_embeddings"
   ]
  },
  {
   "cell_type": "code",
   "execution_count": 15,
   "id": "0a595980",
   "metadata": {},
   "outputs": [
    {
     "data": {
      "text/html": [
       "<div>\n",
       "<style scoped>\n",
       "    .dataframe tbody tr th:only-of-type {\n",
       "        vertical-align: middle;\n",
       "    }\n",
       "\n",
       "    .dataframe tbody tr th {\n",
       "        vertical-align: top;\n",
       "    }\n",
       "\n",
       "    .dataframe thead th {\n",
       "        text-align: right;\n",
       "    }\n",
       "</style>\n",
       "<table border=\"1\" class=\"dataframe\">\n",
       "  <thead>\n",
       "    <tr style=\"text-align: right;\">\n",
       "      <th></th>\n",
       "      <th>Name</th>\n",
       "      <th>Description</th>\n",
       "      <th>Medium</th>\n",
       "      <th>Setting</th>\n",
       "    </tr>\n",
       "  </thead>\n",
       "  <tbody>\n",
       "    <tr>\n",
       "      <th>0</th>\n",
       "      <td>Emily</td>\n",
       "      <td>A young woman in her early 20s, Emily is an aspiring actress and Alice's daughter. She has a bubbly personality and a quick wit, but struggles with self-doubt and insecurity. She's also in a relationship with George.</td>\n",
       "      <td>Play</td>\n",
       "      <td>England</td>\n",
       "    </tr>\n",
       "    <tr>\n",
       "      <th>1</th>\n",
       "      <td>Jack</td>\n",
       "      <td>A middle-aged man in his 40s, Jack is a successful businessman and Sarah's boss. He has a no-nonsense attitude, but is fiercely loyal to his friends and family. He's married to Alice.</td>\n",
       "      <td>Play</td>\n",
       "      <td>England</td>\n",
       "    </tr>\n",
       "    <tr>\n",
       "      <th>2</th>\n",
       "      <td>Alice</td>\n",
       "      <td>A woman in her late 30s, Alice is a warm and nurturing mother of two, including Emily. She's kind-hearted and empathetic, but can be overly protective of her children and prone to worrying. She's married to Jack.</td>\n",
       "      <td>Play</td>\n",
       "      <td>England</td>\n",
       "    </tr>\n",
       "    <tr>\n",
       "      <th>3</th>\n",
       "      <td>Tom</td>\n",
       "      <td>A man in his 50s, Tom is a retired soldier and John's son. He has a no-nonsense approach to life, but is haunted by his experiences in combat and struggles with PTSD. He's also in a relationship with Rachel.</td>\n",
       "      <td>Play</td>\n",
       "      <td>England</td>\n",
       "    </tr>\n",
       "    <tr>\n",
       "      <th>4</th>\n",
       "      <td>Sarah</td>\n",
       "      <td>A woman in her mid-20s, Sarah is a free-spirited artist and Jack's employee. She's creative, unconventional, and passionate about her work. However, she can also be flighty and impulsive at times.</td>\n",
       "      <td>Play</td>\n",
       "      <td>England</td>\n",
       "    </tr>\n",
       "  </tbody>\n",
       "</table>\n",
       "</div>"
      ],
      "text/plain": [
       "    Name  \\\n",
       "0  Emily   \n",
       "1   Jack   \n",
       "2  Alice   \n",
       "3    Tom   \n",
       "4  Sarah   \n",
       "\n",
       "                                                                                                                                                                                                                Description  \\\n",
       "0  A young woman in her early 20s, Emily is an aspiring actress and Alice's daughter. She has a bubbly personality and a quick wit, but struggles with self-doubt and insecurity. She's also in a relationship with George.   \n",
       "1                                   A middle-aged man in his 40s, Jack is a successful businessman and Sarah's boss. He has a no-nonsense attitude, but is fiercely loyal to his friends and family. He's married to Alice.   \n",
       "2      A woman in her late 30s, Alice is a warm and nurturing mother of two, including Emily. She's kind-hearted and empathetic, but can be overly protective of her children and prone to worrying. She's married to Jack.   \n",
       "3           A man in his 50s, Tom is a retired soldier and John's son. He has a no-nonsense approach to life, but is haunted by his experiences in combat and struggles with PTSD. He's also in a relationship with Rachel.   \n",
       "4                      A woman in her mid-20s, Sarah is a free-spirited artist and Jack's employee. She's creative, unconventional, and passionate about her work. However, she can also be flighty and impulsive at times.   \n",
       "\n",
       "  Medium  Setting  \n",
       "0   Play  England  \n",
       "1   Play  England  \n",
       "2   Play  England  \n",
       "3   Play  England  \n",
       "4   Play  England  "
      ]
     },
     "execution_count": 15,
     "metadata": {},
     "output_type": "execute_result"
    }
   ],
   "source": [
    "df = pd.read_csv(\"data/character_descriptions.csv\", index_col=False)\n",
    "df.head(5)"
   ]
  },
  {
   "cell_type": "code",
   "execution_count": 16,
   "id": "acb3a9fd",
   "metadata": {},
   "outputs": [
    {
     "data": {
      "text/html": [
       "<div>\n",
       "<style scoped>\n",
       "    .dataframe tbody tr th:only-of-type {\n",
       "        vertical-align: middle;\n",
       "    }\n",
       "\n",
       "    .dataframe tbody tr th {\n",
       "        vertical-align: top;\n",
       "    }\n",
       "\n",
       "    .dataframe thead th {\n",
       "        text-align: right;\n",
       "    }\n",
       "</style>\n",
       "<table border=\"1\" class=\"dataframe\">\n",
       "  <thead>\n",
       "    <tr style=\"text-align: right;\">\n",
       "      <th></th>\n",
       "      <th>Name</th>\n",
       "      <th>Description</th>\n",
       "      <th>Medium</th>\n",
       "      <th>Setting</th>\n",
       "      <th>text</th>\n",
       "    </tr>\n",
       "  </thead>\n",
       "  <tbody>\n",
       "    <tr>\n",
       "      <th>0</th>\n",
       "      <td>Emily</td>\n",
       "      <td>A young woman in her early 20s, Emily is an aspiring actress and Alice's daughter. She has a bubbly personality and a quick wit, but struggles with self-doubt and insecurity. She's also in a relationship with George.</td>\n",
       "      <td>Play</td>\n",
       "      <td>England</td>\n",
       "      <td>Emily is A young woman in her early 20s, Emily is an aspiring actress and Alice's daughter. She has a bubbly personality and a quick wit, but struggles with self-doubt and insecurity. She's also in a relationship with George.. This character is shown in the Play in England.</td>\n",
       "    </tr>\n",
       "    <tr>\n",
       "      <th>1</th>\n",
       "      <td>Jack</td>\n",
       "      <td>A middle-aged man in his 40s, Jack is a successful businessman and Sarah's boss. He has a no-nonsense attitude, but is fiercely loyal to his friends and family. He's married to Alice.</td>\n",
       "      <td>Play</td>\n",
       "      <td>England</td>\n",
       "      <td>Jack is A middle-aged man in his 40s, Jack is a successful businessman and Sarah's boss. He has a no-nonsense attitude, but is fiercely loyal to his friends and family. He's married to Alice.. This character is shown in the Play in England.</td>\n",
       "    </tr>\n",
       "  </tbody>\n",
       "</table>\n",
       "</div>"
      ],
      "text/plain": [
       "    Name  \\\n",
       "0  Emily   \n",
       "1   Jack   \n",
       "\n",
       "                                                                                                                                                                                                                Description  \\\n",
       "0  A young woman in her early 20s, Emily is an aspiring actress and Alice's daughter. She has a bubbly personality and a quick wit, but struggles with self-doubt and insecurity. She's also in a relationship with George.   \n",
       "1                                   A middle-aged man in his 40s, Jack is a successful businessman and Sarah's boss. He has a no-nonsense attitude, but is fiercely loyal to his friends and family. He's married to Alice.   \n",
       "\n",
       "  Medium  Setting  \\\n",
       "0   Play  England   \n",
       "1   Play  England   \n",
       "\n",
       "                                                                                                                                                                                                                                                                                 text  \n",
       "0  Emily is A young woman in her early 20s, Emily is an aspiring actress and Alice's daughter. She has a bubbly personality and a quick wit, but struggles with self-doubt and insecurity. She's also in a relationship with George.. This character is shown in the Play in England.  \n",
       "1                                    Jack is A middle-aged man in his 40s, Jack is a successful businessman and Sarah's boss. He has a no-nonsense attitude, but is fiercely loyal to his friends and family. He's married to Alice.. This character is shown in the Play in England.  "
      ]
     },
     "execution_count": 16,
     "metadata": {},
     "output_type": "execute_result"
    }
   ],
   "source": [
    "#Create the text column that describe the data\n",
    "pd.options.display.max_colwidth = 300\n",
    "\n",
    "df[\"text\"] = df.apply(\n",
    "    lambda row: f\"{row['Name']} is {row['Description']}. \"\n",
    "                f\"This character is shown in the {row['Medium']} in {row['Setting']}.\",\n",
    "    axis=1\n",
    ")\n",
    "\n",
    "df.head(2)"
   ]
  },
  {
   "cell_type": "code",
   "execution_count": 17,
   "id": "adffcf48",
   "metadata": {},
   "outputs": [],
   "source": [
    "# Embedding the text column\n",
    "import openai\n",
    "\n",
    "openai.api_base = \"https://openai.vocareum.com/v1\"\n",
    "\n",
    "# For security reason, I omited the API KEY after completing the project.\n",
    "\n",
    "openai.api_key = \"YOUR API KEY\" "
   ]
  },
  {
   "cell_type": "code",
   "execution_count": 19,
   "id": "84f9e265",
   "metadata": {},
   "outputs": [
    {
     "data": {
      "text/html": [
       "<div>\n",
       "<style scoped>\n",
       "    .dataframe tbody tr th:only-of-type {\n",
       "        vertical-align: middle;\n",
       "    }\n",
       "\n",
       "    .dataframe tbody tr th {\n",
       "        vertical-align: top;\n",
       "    }\n",
       "\n",
       "    .dataframe thead th {\n",
       "        text-align: right;\n",
       "    }\n",
       "</style>\n",
       "<table border=\"1\" class=\"dataframe\">\n",
       "  <thead>\n",
       "    <tr style=\"text-align: right;\">\n",
       "      <th></th>\n",
       "      <th>Name</th>\n",
       "      <th>Description</th>\n",
       "      <th>Medium</th>\n",
       "      <th>Setting</th>\n",
       "      <th>text</th>\n",
       "      <th>embeddings</th>\n",
       "    </tr>\n",
       "  </thead>\n",
       "  <tbody>\n",
       "    <tr>\n",
       "      <th>0</th>\n",
       "      <td>Emily</td>\n",
       "      <td>A young woman in her early 20s, Emily is an aspiring actress and Alice's daughter. She has a bubbly personality and a quick wit, but struggles with self-doubt and insecurity. She's also in a relationship with George.</td>\n",
       "      <td>Play</td>\n",
       "      <td>England</td>\n",
       "      <td>Emily is A young woman in her early 20s, Emily is an aspiring actress and Alice's daughter. She has a bubbly personality and a quick wit, but struggles with self-doubt and insecurity. She's also in a relationship with George.. This character is shown in the Play in England.</td>\n",
       "      <td>[-0.017194269225001335, -0.010352705605328083, -0.0069706495851278305, -0.021389568224549294, -0.04030068218708038, 0.023480761796236038, -0.008732674643397331, 0.022951509803533554, -0.005934733431786299, -0.01626484841108322, -0.0013215190265327692, -0.007073918357491493, 0.01194691937416792, ...</td>\n",
       "    </tr>\n",
       "    <tr>\n",
       "      <th>1</th>\n",
       "      <td>Jack</td>\n",
       "      <td>A middle-aged man in his 40s, Jack is a successful businessman and Sarah's boss. He has a no-nonsense attitude, but is fiercely loyal to his friends and family. He's married to Alice.</td>\n",
       "      <td>Play</td>\n",
       "      <td>England</td>\n",
       "      <td>Jack is A middle-aged man in his 40s, Jack is a successful businessman and Sarah's boss. He has a no-nonsense attitude, but is fiercely loyal to his friends and family. He's married to Alice.. This character is shown in the Play in England.</td>\n",
       "      <td>[0.0052487291395664215, -0.018989197909832, -0.0010948418639600277, -0.030919311568140984, -0.03422744572162628, 0.016553683206439018, -0.008296377956867218, 0.007801460567861795, 0.005593868903815746, -0.017673760652542114, 0.005375714506953955, 0.004337039310485125, 0.0028539150953292847, -0.0...</td>\n",
       "    </tr>\n",
       "  </tbody>\n",
       "</table>\n",
       "</div>"
      ],
      "text/plain": [
       "    Name  \\\n",
       "0  Emily   \n",
       "1   Jack   \n",
       "\n",
       "                                                                                                                                                                                                                Description  \\\n",
       "0  A young woman in her early 20s, Emily is an aspiring actress and Alice's daughter. She has a bubbly personality and a quick wit, but struggles with self-doubt and insecurity. She's also in a relationship with George.   \n",
       "1                                   A middle-aged man in his 40s, Jack is a successful businessman and Sarah's boss. He has a no-nonsense attitude, but is fiercely loyal to his friends and family. He's married to Alice.   \n",
       "\n",
       "  Medium  Setting  \\\n",
       "0   Play  England   \n",
       "1   Play  England   \n",
       "\n",
       "                                                                                                                                                                                                                                                                                 text  \\\n",
       "0  Emily is A young woman in her early 20s, Emily is an aspiring actress and Alice's daughter. She has a bubbly personality and a quick wit, but struggles with self-doubt and insecurity. She's also in a relationship with George.. This character is shown in the Play in England.   \n",
       "1                                    Jack is A middle-aged man in his 40s, Jack is a successful businessman and Sarah's boss. He has a no-nonsense attitude, but is fiercely loyal to his friends and family. He's married to Alice.. This character is shown in the Play in England.   \n",
       "\n",
       "                                                                                                                                                                                                                                                                                                    embeddings  \n",
       "0  [-0.017194269225001335, -0.010352705605328083, -0.0069706495851278305, -0.021389568224549294, -0.04030068218708038, 0.023480761796236038, -0.008732674643397331, 0.022951509803533554, -0.005934733431786299, -0.01626484841108322, -0.0013215190265327692, -0.007073918357491493, 0.01194691937416792, ...  \n",
       "1  [0.0052487291395664215, -0.018989197909832, -0.0010948418639600277, -0.030919311568140984, -0.03422744572162628, 0.016553683206439018, -0.008296377956867218, 0.007801460567861795, 0.005593868903815746, -0.017673760652542114, 0.005375714506953955, 0.004337039310485125, 0.0028539150953292847, -0.0...  "
      ]
     },
     "execution_count": 19,
     "metadata": {},
     "output_type": "execute_result"
    }
   ],
   "source": [
    "EMBEDDING_MODEL_NAME = \"text-embedding-ada-002\"\n",
    "batch_size = 100\n",
    "embeddings = []\n",
    "for i in range(0, len(df), batch_size):\n",
    "    # Send text data to OpenAI model to get embeddings\n",
    "    response = openai.Embedding.create(\n",
    "        input=df.iloc[i:i+batch_size][\"text\"].tolist(),\n",
    "        engine=EMBEDDING_MODEL_NAME\n",
    "    )\n",
    "    \n",
    "    # Add embeddings to list\n",
    "    embeddings.extend([data[\"embedding\"] for data in response[\"data\"]])\n",
    "\n",
    "# Add embeddings list to dataframe\n",
    "df[\"embeddings\"] = embeddings\n",
    "df.head(2)"
   ]
  },
  {
   "cell_type": "markdown",
   "id": "33fcb96f",
   "metadata": {},
   "source": [
    "## Custom Query Completion"
   ]
  },
  {
   "cell_type": "code",
   "execution_count": 20,
   "id": "a1a1c99c",
   "metadata": {},
   "outputs": [],
   "source": [
    "def get_cosine_distance(question, df):\n",
    "    \"\"\"\n",
    "    This function do as following:\n",
    "    First, it generates an embedding for the user's question.\n",
    "    Next, it creates a copy of the original DataFrame.\n",
    "    Then, it calculates a distances column that measures how similar each row's text is to the user’s question.\n",
    "    Finally, it sorts the DataFrame in ascending order of distance — placing the most relevant texts ( those closest in meaning) at the top.\n",
    "    \"\"\"\n",
    "\n",
    "    # Get the embedding for question text\n",
    "    question_embeddings = get_embedding(question, engine=EMBEDDING_MODEL_NAME)\n",
    "\n",
    "    # Copy the current dataframe. Create distances column\n",
    "    df_copy = df.copy()\n",
    "    df_copy[\"distances\"] = distances_from_embeddings(question_embeddings,\n",
    "                                                df_copy[\"embeddings\"].values,\n",
    "                                                distance_metric=\"cosine\")\n",
    "\n",
    "    # Order by ascending order. The closer distance mean better relevant\n",
    "    df_copy.sort_values(\"distances\", ascending=True, inplace=True)\n",
    "    return df_copy"
   ]
  },
  {
   "cell_type": "code",
   "execution_count": 33,
   "id": "8b6e1f75",
   "metadata": {},
   "outputs": [],
   "source": [
    "def get_relevant_context(prompt_template, question, df, max_token_count):\n",
    "    # count the total token by tiktoken\n",
    "    tokenizer = tiktoken.get_encoding(\"cl100k_base\")\n",
    "    \n",
    "    \"\"\"\n",
    "    Given a question and a dataframe containing rows of text and their\n",
    "    embeddings, return a text prompt to send to a Completion model. \n",
    "    \n",
    "    \"\"\"\n",
    "    \n",
    "    # Count total token\n",
    "    current_token_count = len(tokenizer.encode(prompt_template)) + len(tokenizer.encode(question))\n",
    "\n",
    "    # List of contexts to send to Openai\n",
    "    context = []\n",
    "    for text in get_cosine_distance(question, df)[\"text\"].values:\n",
    "        text_token_count = len(tokenizer.encode(text))\n",
    "        current_token_count += text_token_count\n",
    "        # if not exceed max tokens, append to context\n",
    "        if current_token_count <= max_token_count:\n",
    "            context.append(text)\n",
    "        else:\n",
    "            break\n",
    "    return context"
   ]
  },
  {
   "cell_type": "code",
   "execution_count": 24,
   "id": "13f2dcd7",
   "metadata": {},
   "outputs": [],
   "source": [
    "def prompt_and_context(question, df, max_token_count):\n",
    "    \"\"\"\n",
    "    Format the prompt template, add relevant contexts to guide chatbot to answer user questions.\n",
    "    This is no-shot example.\n",
    "    \"\"\"\n",
    "\n",
    "    # Prompt template to instruct the chatbot\n",
    "    prompt_template = \"\"\"\n",
    "    You are a smart assistant to answer the question based on provided context. \\\n",
    "    If the question can not be answered based on the provided contexts, only say \\ \n",
    "    \"The question is out of scope. Could you please check your question or ask another question\". Do not try to \\\n",
    "    answer the question out of the provide contexts.\n",
    "    Context: \n",
    "\n",
    "    {}\n",
    "\n",
    "    ---\n",
    "\n",
    "    Question: {}\n",
    "    Answer:\"\"\"\n",
    "\n",
    "    # Get the relevant context\n",
    "    context = get_relevant_context(prompt_template = prompt_template, question = question, \n",
    "                                   df = df, max_token_count = max_token_count)\n",
    "    # Format the prompt template\n",
    "    prompt_template = prompt_template.format(\"\\n\\n###\\n\\n\".join(context), question)\n",
    "\n",
    "    return prompt_template"
   ]
  },
  {
   "cell_type": "markdown",
   "id": "1783f146",
   "metadata": {},
   "source": [
    "## Custom Performance Demonstration"
   ]
  },
  {
   "cell_type": "markdown",
   "id": "4f11fdc0",
   "metadata": {},
   "source": [
    "### Question 1"
   ]
  },
  {
   "cell_type": "code",
   "execution_count": 42,
   "id": "4901c850",
   "metadata": {},
   "outputs": [],
   "source": [
    "question_1 = \"Who is the mother of Emily?\""
   ]
  },
  {
   "cell_type": "code",
   "execution_count": 43,
   "id": "bd7a093b",
   "metadata": {},
   "outputs": [
    {
     "data": {
      "text/plain": [
       "'\\n\\nThere is not enough information provided to answer this question. There are likely many people named Emily with different mothers.'"
      ]
     },
     "execution_count": 43,
     "metadata": {},
     "output_type": "execute_result"
    }
   ],
   "source": [
    "# The general question \"question_1\" is sent to Openai\n",
    "# Thus, the response is unknown\n",
    "answer1_without_context = openai.Completion.create(\n",
    "    model=\"gpt-3.5-turbo-instruct\",\n",
    "    prompt=question_1,\n",
    "    max_tokens=150\n",
    ")\n",
    "answer1_without_context[\"choices\"][0][\"text\"]"
   ]
  },
  {
   "cell_type": "code",
   "execution_count": 44,
   "id": "40d58624",
   "metadata": {},
   "outputs": [
    {
     "data": {
      "text/plain": [
       "\"Emily is A young woman in her early 20s, Emily is an aspiring actress and Alice's daughter. She has a bubbly personality and a quick wit, but struggles with self-doubt and insecurity. She's also in a relationship with George.. This character is shown in the Play in England.\""
      ]
     },
     "execution_count": 44,
     "metadata": {},
     "output_type": "execute_result"
    }
   ],
   "source": [
    "df['text'].iloc[0]"
   ]
  },
  {
   "cell_type": "code",
   "execution_count": 45,
   "id": "fe84f302",
   "metadata": {
    "scrolled": true
   },
   "outputs": [
    {
     "data": {
      "text/plain": [
       "' Alice.'"
      ]
     },
     "execution_count": 45,
     "metadata": {},
     "output_type": "execute_result"
    }
   ],
   "source": [
    "# The question is sent along with relevant contexts\n",
    "# Thus, the response is as expected (Emily is in a relationship with George)\n",
    "answer1_customized = openai.Completion.create(\n",
    "  model=\"gpt-3.5-turbo-instruct\",\n",
    "  prompt=prompt_and_context(question_1, df, 2000),\n",
    "    max_tokens=150\n",
    ")\n",
    "answer1_customized[\"choices\"][0][\"text\"]"
   ]
  },
  {
   "cell_type": "markdown",
   "id": "6e86e37c",
   "metadata": {},
   "source": [
    "### Question 2"
   ]
  },
  {
   "cell_type": "code",
   "execution_count": 39,
   "id": "6f646989",
   "metadata": {},
   "outputs": [],
   "source": [
    "question_2 = \"Who is a middle-aged man?\""
   ]
  },
  {
   "cell_type": "code",
   "execution_count": 40,
   "id": "11c07a54",
   "metadata": {},
   "outputs": [
    {
     "data": {
      "text/plain": [
       "'\\n\\nA middle-aged man is typically defined as someone between the ages of 40 and 65 years old. This age bracket is considered the transition period between young adulthood and old age and is generally characterized by a stable career, established relationships, and physical changes such as a decrease in energy and a greying of hair. '"
      ]
     },
     "execution_count": 40,
     "metadata": {},
     "output_type": "execute_result"
    }
   ],
   "source": [
    "# The general question \"question_2\" is sent to Openai\n",
    "# Thus, the response is hallucinated\n",
    "answer2_without_context = openai.Completion.create(\n",
    "    model=\"gpt-3.5-turbo-instruct\",\n",
    "    prompt=question_2,\n",
    "    max_tokens=150\n",
    ")\n",
    "answer2_without_context[\"choices\"][0][\"text\"]"
   ]
  },
  {
   "cell_type": "code",
   "execution_count": 37,
   "id": "bd58ee0e",
   "metadata": {},
   "outputs": [
    {
     "data": {
      "text/plain": [
       "\"Jack is A middle-aged man in his 40s, Jack is a successful businessman and Sarah's boss. He has a no-nonsense attitude, but is fiercely loyal to his friends and family. He's married to Alice.. This character is shown in the Play in England.\""
      ]
     },
     "execution_count": 37,
     "metadata": {},
     "output_type": "execute_result"
    }
   ],
   "source": [
    "df['text'].iloc[1]"
   ]
  },
  {
   "cell_type": "code",
   "execution_count": 41,
   "id": "d96d88af",
   "metadata": {},
   "outputs": [
    {
     "data": {
      "text/plain": [
       "' Jack is a middle-aged man in his 40s.'"
      ]
     },
     "execution_count": 41,
     "metadata": {},
     "output_type": "execute_result"
    }
   ],
   "source": [
    "# The question is sent along with relevant contexts\n",
    "# Thus, the response is as expected (Jack married to Alice and appears in the Play in England)\n",
    "answer2_customized = openai.Completion.create(\n",
    "  model=\"gpt-3.5-turbo-instruct\",\n",
    "  prompt=prompt_and_context(question_2, df, 2000),\n",
    "    max_tokens=150\n",
    ")\n",
    "answer2_customized[\"choices\"][0][\"text\"]"
   ]
  },
  {
   "cell_type": "code",
   "execution_count": null,
   "id": "ad32bafc",
   "metadata": {},
   "outputs": [],
   "source": []
  }
 ],
 "metadata": {
  "kernelspec": {
   "display_name": "Python 3 (ipykernel)",
   "language": "python",
   "name": "python3"
  },
  "language_info": {
   "codemirror_mode": {
    "name": "ipython",
    "version": 3
   },
   "file_extension": ".py",
   "mimetype": "text/x-python",
   "name": "python",
   "nbconvert_exporter": "python",
   "pygments_lexer": "ipython3",
   "version": "3.9.18"
  }
 },
 "nbformat": 4,
 "nbformat_minor": 5
}
